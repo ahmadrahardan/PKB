{
  "nbformat": 4,
  "nbformat_minor": 0,
  "metadata": {
    "colab": {
      "provenance": []
    },
    "kernelspec": {
      "name": "python3",
      "display_name": "Python 3"
    },
    "language_info": {
      "name": "python"
    }
  },
  "cells": [
    {
      "cell_type": "markdown",
      "source": [
        "BFS"
      ],
      "metadata": {
        "id": "ekayW4lreM0g"
      }
    },
    {
      "cell_type": "code",
      "execution_count": 1,
      "metadata": {
        "colab": {
          "base_uri": "https://localhost:8080/"
        },
        "id": "d_i-rA8GeHR-",
        "outputId": "4de0f2bd-c66c-4e18-9971-fd9caf53f5ed"
      },
      "outputs": [
        {
          "output_type": "stream",
          "name": "stdout",
          "text": [
            "Urutan Kunjungan Breadth-First Search (BFS):\n",
            "a b c d e f "
          ]
        }
      ],
      "source": [
        "graph = {\n",
        "    'a': ['b', 'c'],\n",
        "    'b': ['a', 'd', 'e'],\n",
        "    'c': ['a'],\n",
        "    'd': ['b', 'e', 'f'],\n",
        "    'e': ['b', 'd'],\n",
        "    'f': ['d']\n",
        "}\n",
        "\n",
        "\n",
        "visited_bfs = []\n",
        "queue = []\n",
        "\n",
        "def bfs(visited_bfs, graph, node):\n",
        "    visited_bfs.append(node)\n",
        "    queue.append(node)\n",
        "\n",
        "    while queue:\n",
        "        m = queue.pop(0)\n",
        "        print(m, end=\" \")\n",
        "\n",
        "        for neighbor in graph[m]:\n",
        "            if neighbor not in visited_bfs:\n",
        "                visited_bfs.append(neighbor)\n",
        "                queue.append(neighbor)\n",
        "\n",
        "print(\"Urutan Kunjungan Breadth-First Search (BFS):\")\n",
        "bfs(visited_bfs, graph, 'a')"
      ]
    },
    {
      "cell_type": "markdown",
      "source": [
        "DFS"
      ],
      "metadata": {
        "id": "lTM2SogVeR1s"
      }
    },
    {
      "cell_type": "code",
      "source": [
        "graph = {\n",
        "    'a': ['b', 'c'],\n",
        "    'b': ['a', 'd', 'e'],\n",
        "    'c': ['a'],\n",
        "    'd': ['b', 'e', 'f'],\n",
        "    'e': ['b', 'd'],\n",
        "    'f': ['d']\n",
        "}\n",
        "\n",
        "visited_dfs = set()\n",
        "\n",
        "def dfs(visited_dfs, graph, node):\n",
        "    if node not in visited_dfs:\n",
        "        print(node, end=\" \")\n",
        "        visited_dfs.add(node)\n",
        "\n",
        "        for tetangga in graph[node]:\n",
        "            dfs(visited_dfs, graph, tetangga)\n",
        "\n",
        "print(\"\\nUrutan Kunjungan Depth-First Search (DFS):\")\n",
        "dfs(visited_dfs, graph, 'a')"
      ],
      "metadata": {
        "colab": {
          "base_uri": "https://localhost:8080/"
        },
        "id": "RqTob-dleTjv",
        "outputId": "2f801d2a-eb28-480f-c60d-ee2bec587e3d"
      },
      "execution_count": 2,
      "outputs": [
        {
          "output_type": "stream",
          "name": "stdout",
          "text": [
            "\n",
            "Urutan Kunjungan Depth-First Search (DFS):\n",
            "a b d e f c "
          ]
        }
      ]
    }
  ]
}